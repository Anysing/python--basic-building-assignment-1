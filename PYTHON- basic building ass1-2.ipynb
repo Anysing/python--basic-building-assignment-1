{
 "cells": [
  {
   "cell_type": "markdown",
   "id": "bcca455b-dd05-4025-906b-068a9eb462f5",
   "metadata": {},
   "source": [
    "Q1. Create one variable containing following type of data:\n",
    "(i) string\n",
    "(ii) list\n",
    "(iii) float\n",
    "(iv) tuple"
   ]
  },
  {
   "cell_type": "code",
   "execution_count": null,
   "id": "ffa6d42c-4047-4434-83bd-8e252333fcd5",
   "metadata": {},
   "outputs": [],
   "source": [
    "list = [\"Ankit\",[2,3,4],2.3,(2,3,4)]\n",
    "for i in list:\n",
    "    print(i,type(i))"
   ]
  },
  {
   "cell_type": "markdown",
   "id": "4ffcaf0a-e621-44ea-a9d1-9ac5ec07c8ba",
   "metadata": {},
   "source": [
    "Q1. Create one variable containing following type of data:\n",
    "(i) string\n",
    "(ii) list\n",
    "(iii) float\n",
    "(iv) tuple"
   ]
  },
  {
   "cell_type": "markdown",
   "id": "e3666cee-acd7-4798-8993-33a9b9b202d4",
   "metadata": {},
   "source": [
    "Q2. Given are some following variables containing data:\n",
    "(i) var1 = ‘ ‘\n",
    "(ii) var2 = ‘[ DS , ML , Python]’\n",
    "(iii) var3 = [ ‘DS’ , ’ML’ , ‘Python’ ]\n",
    "(iv) var4 = 1.\n",
    "What will be the data type of the above given variable."
   ]
  },
  {
   "cell_type": "code",
   "execution_count": 7,
   "id": "5d094364-00fa-42b3-8a74-4f4ae643f906",
   "metadata": {},
   "outputs": [],
   "source": [
    "var1 = \"\" #var1 is str datatype\n",
    "var2 = '[ DS , ML , Python]' #var2 is str datatype\n",
    "var3 = [ 'DS' , 'ML' , 'Python' ] #var3 is list datatype\n",
    "var4 = 1 #var4 is int datatype"
   ]
  },
  {
   "cell_type": "markdown",
   "id": "f9aecbb0-7d10-4068-8a02-3d048c3c2689",
   "metadata": {},
   "source": [
    "Q3. Explain the use of the following operators using an example:\n",
    "(i) /\n",
    "(ii) %\n",
    "(iii) //\n",
    "(iv) **"
   ]
  },
  {
   "cell_type": "code",
   "execution_count": 9,
   "id": "ff1287a7-6e60-48d1-86d2-0795c42edde3",
   "metadata": {},
   "outputs": [
    {
     "data": {
      "text/plain": [
       "0.6666666666666666"
      ]
     },
     "execution_count": 9,
     "metadata": {},
     "output_type": "execute_result"
    }
   ],
   "source": [
    "2/3 #'/' operator is used for divison and it returns a floating datatype"
   ]
  },
  {
   "cell_type": "code",
   "execution_count": 10,
   "id": "ffb7f60c-4d1d-4521-b6d4-f7c79a2a4ea3",
   "metadata": {},
   "outputs": [
    {
     "data": {
      "text/plain": [
       "2"
      ]
     },
     "execution_count": 10,
     "metadata": {},
     "output_type": "execute_result"
    }
   ],
   "source": [
    "2%3 #'%' operator is also used in divison but it returns a remainder"
   ]
  },
  {
   "cell_type": "code",
   "execution_count": 11,
   "id": "7c6d49e4-cefb-47e3-a699-fb907a161d47",
   "metadata": {},
   "outputs": [
    {
     "data": {
      "text/plain": [
       "0"
      ]
     },
     "execution_count": 11,
     "metadata": {},
     "output_type": "execute_result"
    }
   ],
   "source": [
    "2//3 #'//' operator is also used for divison but it returns a integer datatype"
   ]
  },
  {
   "cell_type": "code",
   "execution_count": 12,
   "id": "fcd81dcc-aae9-4213-bba9-4d8d1d7dd5f1",
   "metadata": {},
   "outputs": [
    {
     "data": {
      "text/plain": [
       "8"
      ]
     },
     "execution_count": 12,
     "metadata": {},
     "output_type": "execute_result"
    }
   ],
   "source": [
    "2**3 #'**' operator is used for exponent"
   ]
  },
  {
   "cell_type": "markdown",
   "id": "3179b63f-88ed-4d35-8227-6eb09a5e80eb",
   "metadata": {},
   "source": [
    "Q4. Create a list of length 10 of your choice containing multiple types of data. Using for loop print the\n",
    "element and its data type."
   ]
  },
  {
   "cell_type": "code",
   "execution_count": 13,
   "id": "1ffe0a14-37cc-4304-8f16-8a4e158af404",
   "metadata": {},
   "outputs": [
    {
     "name": "stdout",
     "output_type": "stream",
     "text": [
      "1 <class 'int'>\n",
      "2.3 <class 'float'>\n",
      "ankit <class 'str'>\n",
      "[1, 2, 3] <class 'list'>\n",
      "(1, 2, 3) <class 'tuple'>\n",
      "{2, 3, 4} <class 'set'>\n",
      "{2: 3, 'ankit': 23} <class 'dict'>\n"
     ]
    }
   ],
   "source": [
    "list = [1,2.3,\"ankit\",[1,2,3],(1,2,3),{2,3,4},{2:3,\"ankit\":23}]\n",
    "for i in list:\n",
    "    print(i,type(i))"
   ]
  },
  {
   "cell_type": "markdown",
   "id": "16542351-7b1a-4b51-90f5-b048c75509f5",
   "metadata": {},
   "source": [
    "Q5. Using a while loop, verify if the number A is purely divisible by number B and if so then how many\n",
    "times it can be divisible."
   ]
  },
  {
   "cell_type": "code",
   "execution_count": null,
   "id": "9425d07e-a3b9-4aeb-b001-21b857305f2f",
   "metadata": {},
   "outputs": [],
   "source": []
  },
  {
   "cell_type": "markdown",
   "id": "958036bd-36a5-446a-a5ad-ee7848d6a7fb",
   "metadata": {},
   "source": [
    "Q6. Create a list containing 25 int type data. Using for loop and if-else condition print if the element is\n",
    "divisible by 3 or not."
   ]
  },
  {
   "cell_type": "code",
   "execution_count": 2,
   "id": "dcbabbe1-7ce7-4255-94ea-5ae6fcda971c",
   "metadata": {},
   "outputs": [
    {
     "name": "stdout",
     "output_type": "stream",
     "text": [
      "2 Not divisible by 3\n",
      "3 It is divisible by 3\n",
      "4 Not divisible by 3\n",
      "45 It is divisible by 3\n",
      "36 It is divisible by 3\n",
      "9 It is divisible by 3\n",
      "23 Not divisible by 3\n",
      "66 It is divisible by 3\n",
      "69 It is divisible by 3\n",
      "15 It is divisible by 3\n",
      "89 Not divisible by 3\n",
      "86 Not divisible by 3\n",
      "83 Not divisible by 3\n",
      "82 Not divisible by 3\n",
      "12 It is divisible by 3\n",
      "18 It is divisible by 3\n",
      "24 It is divisible by 3\n",
      "88 Not divisible by 3\n",
      "44 Not divisible by 3\n",
      "90 It is divisible by 3\n",
      "144 It is divisible by 3\n",
      "56 Not divisible by 3\n",
      "80 Not divisible by 3\n",
      "233 Not divisible by 3\n",
      "456 It is divisible by 3\n"
     ]
    }
   ],
   "source": [
    "list = [2,3,4,45,36,9,23,66,69,15,89,86,83,82,12,18,24,88,44,90,144,56,80,233,456]\n",
    "for i in list:\n",
    "    if i%3 == 0:\n",
    "        print(f\"{i} It is divisible by 3\")\n",
    "    else:\n",
    "        print(f\"{i} Not divisible by 3\")"
   ]
  },
  {
   "cell_type": "markdown",
   "id": "c5a17c53-0c4a-4bdb-a7c8-2c5c52223a49",
   "metadata": {},
   "source": [
    "Q7. What do you understand about mutable and immutable data types? Give examples for both showing\n",
    "this property."
   ]
  },
  {
   "cell_type": "code",
   "execution_count": 6,
   "id": "a78f94bc-a034-40f9-9487-ea92471bae4d",
   "metadata": {},
   "outputs": [],
   "source": [
    "#mutable datatypes are the once which can be changed after giving them a value for eg list,dictionaries\n",
    "list = [2,4,5,6,6]\n",
    "list[3] = 45\n",
    "list  #---> output[2, 4, 5, 45, 6]\n",
    "\n",
    "dict = {\"name\" : \"Ankit\",\"age\" : 21,\"sex\" : \"male\"}\n",
    "dict[\"name\"] = \"Anysingh\"\n",
    "dict #---> output{'name': 'Anysingh', 'age': 21, 'sex': 'male'}"
   ]
  },
  {
   "cell_type": "code",
   "execution_count": 12,
   "id": "28e68008-37a5-42f3-b11d-1c554f87a786",
   "metadata": {},
   "outputs": [],
   "source": [
    "#immutable datatypes are the once which cannot be changed after giving them a value for eg string,tuples,sets\n",
    "str = \"ankit singh gusain\"\n",
    "str[2] = \"z\"\n",
    "str #---> gives us error that:'str' object does not support item assignment\n",
    "\n",
    "tuples = (2,4,5,66,56)\n",
    "tuples[2] = 0\n",
    "tuples #---> gives us error that:'tuple' object does not support item assignment"
   ]
  },
  {
   "cell_type": "markdown",
   "id": "3e173eeb-10d9-482d-88d8-6e6c43355284",
   "metadata": {},
   "source": [
    "THANKYOU SIR/MAAM"
   ]
  }
 ],
 "metadata": {
  "kernelspec": {
   "display_name": "Python 3 (ipykernel)",
   "language": "python",
   "name": "python3"
  },
  "language_info": {
   "codemirror_mode": {
    "name": "ipython",
    "version": 3
   },
   "file_extension": ".py",
   "mimetype": "text/x-python",
   "name": "python",
   "nbconvert_exporter": "python",
   "pygments_lexer": "ipython3",
   "version": "3.10.8"
  }
 },
 "nbformat": 4,
 "nbformat_minor": 5
}
